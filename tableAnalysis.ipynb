{
 "cells": [
  {
   "cell_type": "code",
   "execution_count": 1,
   "id": "c1b63b5b",
   "metadata": {},
   "outputs": [],
   "source": [
    "import csv\n",
    "import math\n"
   ]
  },
  {
   "cell_type": "code",
   "execution_count": 2,
   "id": "2fe83b27",
   "metadata": {},
   "outputs": [],
   "source": [
    "file = open(\"dataFolder/StaticTableTrial0.csv\")\n",
    "csv_reader = csv.reader(file,delimiter=',')"
   ]
  },
  {
   "cell_type": "markdown",
   "id": "c04562eb",
   "metadata": {},
   "source": [
    "line_count = 0\n",
    "for row in csv_reader:\n",
    "    if line_count == 0:\n",
    "        print(f'Column names are {\", \".join(row)}')\n",
    "        line_count += 1\n",
    "    else:\n",
    "        print(f'\\t{row[0]},{row[1]},{row[2]},{row[3]}')\n",
    "        line_count += 1\n",
    "print(f'Processed {line_count} lines.')"
   ]
  },
  {
   "cell_type": "code",
   "execution_count": 3,
   "id": "3b1b11a5",
   "metadata": {},
   "outputs": [
    {
     "data": {
      "text/plain": [
       "'error'"
      ]
     },
     "execution_count": 3,
     "metadata": {},
     "output_type": "execute_result"
    }
   ],
   "source": [
    "#READING THE CSV FILE\n",
    "data_x = []\n",
    "data_y = []\n",
    "data_z = []\n",
    "data_error = []\n",
    "for row in csv_reader:\n",
    "    data_x.append(row[0])\n",
    "    data_y.append(row[1])\n",
    "    data_z.append(row[2])\n",
    "    data_error.append(row[3])\n",
    "#remove the first element of each list to remove the headers\n",
    "data_x.pop(0)\n",
    "data_y.pop(0)\n",
    "data_z.pop(0)\n",
    "data_error.pop(0)\n",
    "        "
   ]
  },
  {
   "cell_type": "code",
   "execution_count": 6,
   "id": "4c1123ca",
   "metadata": {},
   "outputs": [
    {
     "name": "stdout",
     "output_type": "stream",
     "text": [
      "Average error =  137.42978\n",
      "Average coordinates =  1119.63 520.76 253.81\n"
     ]
    }
   ],
   "source": [
    "import numpy as np\n",
    "x = np.asarray(data_x, dtype=np.float32)\n",
    "y = np.asarray(data_y, dtype=np.float32)\n",
    "z = np.asarray(data_z, dtype=np.float32)\n",
    "error = np.asarray(data_error, dtype=np.float32)    \n",
    "\n",
    "print(\"Average error = \",np.average(error))\n",
    "print(\"Average coordinates = \",np.average(x),np.average(y),np.average(z))"
   ]
  },
  {
   "cell_type": "code",
   "execution_count": null,
   "id": "cb7f6bb7",
   "metadata": {},
   "outputs": [],
   "source": []
  }
 ],
 "metadata": {
  "celltoolbar": "Raw Cell Format",
  "kernelspec": {
   "display_name": "Python 3",
   "language": "python",
   "name": "python3"
  },
  "language_info": {
   "codemirror_mode": {
    "name": "ipython",
    "version": 3
   },
   "file_extension": ".py",
   "mimetype": "text/x-python",
   "name": "python",
   "nbconvert_exporter": "python",
   "pygments_lexer": "ipython3",
   "version": "3.8.8"
  }
 },
 "nbformat": 4,
 "nbformat_minor": 5
}
